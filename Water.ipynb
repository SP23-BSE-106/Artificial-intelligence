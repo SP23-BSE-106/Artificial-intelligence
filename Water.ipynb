{
  "nbformat": 4,
  "nbformat_minor": 0,
  "metadata": {
    "colab": {
      "provenance": []
    },
    "kernelspec": {
      "name": "python3",
      "display_name": "Python 3"
    },
    "language_info": {
      "name": "python"
    }
  },
  "cells": [
    {
      "cell_type": "markdown",
      "source": [
        "# **BFS**"
      ],
      "metadata": {
        "id": "7z1Jz4kzgA4k"
      }
    },
    {
      "cell_type": "code",
      "execution_count": 2,
      "metadata": {
        "colab": {
          "base_uri": "https://localhost:8080/"
        },
        "id": "S46r8OunaMsn",
        "outputId": "7550bc74-b9e1-4411-87b0-3e6aa5cca56a"
      },
      "outputs": [
        {
          "output_type": "stream",
          "name": "stdout",
          "text": [
            "BFS Solution Path:\n",
            "(0, 0)\n",
            "(0, 3)\n",
            "(3, 0)\n",
            "(3, 3)\n",
            "(4, 2)\n"
          ]
        }
      ],
      "source": [
        "from collections import deque\n",
        "\n",
        "\n",
        "# Jug capacities and goal\n",
        "JUG1 = 4\n",
        "JUG2 = 3\n",
        "GOAL = 2\n",
        "\n",
        "# ---------- BFS ----------\n",
        "from collections import deque\n",
        "\n",
        "# Jug capacities and goal\n",
        "JUG1 = 4\n",
        "JUG2 = 3\n",
        "GOAL = 2\n",
        "\n",
        "def water_jug_bfs():\n",
        "    start = (0, 0)   # (jug1, jug2)\n",
        "    visited = set()\n",
        "    queue = deque([[start]])\n",
        "\n",
        "    while queue:\n",
        "        path = queue.popleft()\n",
        "        state = path[-1]\n",
        "\n",
        "        # Goal check\n",
        "        if state[0] == GOAL or state[1] == GOAL:\n",
        "            return path\n",
        "\n",
        "        if state in visited:\n",
        "            continue\n",
        "        visited.add(state)\n",
        "\n",
        "        x, y = state\n",
        "        next_states = [\n",
        "            (JUG1, y),\n",
        "            (x, JUG2),\n",
        "            (0, y),\n",
        "            (x, 0),\n",
        "            (x - min(x, JUG2 - y), y + min(x, JUG2 - y)),\n",
        "            (x + min(y, JUG1 - x), y - min(y, JUG1 - x))\n",
        "        ]\n",
        "\n",
        "        for nxt in next_states:\n",
        "            if nxt not in visited:\n",
        "                new_path = list(path)\n",
        "                new_path.append(nxt)\n",
        "                queue.append(new_path)\n",
        "    return None\n",
        "\n",
        "solution = water_jug_bfs()\n",
        "print(\"BFS Solution Path:\")\n",
        "for step in solution:\n",
        "    print(step)\n"
      ]
    },
    {
      "cell_type": "markdown",
      "source": [
        "# **DFS**"
      ],
      "metadata": {
        "id": "t0gBRlHWgG7l"
      }
    },
    {
      "cell_type": "code",
      "source": [
        "\n",
        "# Jug capacities and goal\n",
        "JUG1 = 4\n",
        "JUG2 = 3\n",
        "GOAL = 2\n",
        "\n",
        "def water_jug_dfs():\n",
        "    start = (0, 0)\n",
        "    stack = [[start]]\n",
        "    visited = set()\n",
        "\n",
        "    while stack:\n",
        "        path = stack.pop()\n",
        "        state = path[-1]\n",
        "\n",
        "        if state[0] == GOAL or state[1] == GOAL:\n",
        "            return path\n",
        "\n",
        "        if state in visited:\n",
        "            continue\n",
        "        visited.add(state)\n",
        "\n",
        "        x, y = state\n",
        "        next_states = [\n",
        "            (JUG1, y),\n",
        "            (x, JUG2),\n",
        "            (0, y),\n",
        "            (x, 0),\n",
        "            (x - min(x, JUG2 - y), y + min(x, JUG2 - y)),\n",
        "            (x + min(y, JUG1 - x), y - min(y, JUG1 - x))\n",
        "        ]\n",
        "\n",
        "        for nxt in next_states:\n",
        "            if nxt not in visited:\n",
        "                new_path = list(path)\n",
        "                new_path.append(nxt)\n",
        "                stack.append(new_path)\n",
        "    return None\n",
        "\n",
        "solution = water_jug_dfs()\n",
        "print(\" DFS Solution Path:\")\n",
        "for step in solution:\n",
        "    print(step)\n"
      ],
      "metadata": {
        "colab": {
          "base_uri": "https://localhost:8080/"
        },
        "id": "PQSz9CfqgK0d",
        "outputId": "a2dac7fc-2fa2-4a1b-ae26-9504b27ca801"
      },
      "execution_count": 3,
      "outputs": [
        {
          "output_type": "stream",
          "name": "stdout",
          "text": [
            " DFS Solution Path:\n",
            "(0, 0)\n",
            "(0, 3)\n",
            "(3, 0)\n",
            "(3, 3)\n",
            "(4, 2)\n"
          ]
        }
      ]
    },
    {
      "cell_type": "markdown",
      "source": [
        "# A* **bold text**"
      ],
      "metadata": {
        "id": "2pE9DNYLhT8I"
      }
    },
    {
      "cell_type": "code",
      "source": [
        "import heapq\n",
        "\n",
        "# Jug capacities and goal\n",
        "JUG1 = 4\n",
        "JUG2 = 3\n",
        "GOAL = 2\n",
        "\n",
        "def heuristic(state):\n",
        "    x, y = state\n",
        "    return min(abs(x - GOAL), abs(y - GOAL))\n",
        "\n",
        "def a_star_water_jug():\n",
        "    start = (0, 0)\n",
        "    open_list = []\n",
        "    heapq.heappush(open_list, (heuristic(start), 0, [start]))\n",
        "    visited = {}\n",
        "\n",
        "    while open_list:\n",
        "        f, g, path = heapq.heappop(open_list)\n",
        "        state = path[-1]\n",
        "\n",
        "        if state[0] == GOAL or state[1] == GOAL:\n",
        "            return path\n",
        "\n",
        "        if state in visited and visited[state] <= g:\n",
        "            continue\n",
        "        visited[state] = g\n",
        "\n",
        "        x, y = state\n",
        "        next_states = [\n",
        "            (JUG1, y),\n",
        "            (x, JUG2),\n",
        "            (0, y),\n",
        "            (x, 0),\n",
        "            (x - min(x, JUG2 - y), y + min(x, JUG2 - y)),\n",
        "            (x + min(y, JUG1 - x), y - min(y, JUG1 - x))\n",
        "        ]\n",
        "\n",
        "        for nxt in next_states:\n",
        "            if nxt not in visited or g + 1 < visited.get(nxt, float('inf')):\n",
        "                new_path = list(path)\n",
        "                new_path.append(nxt)\n",
        "                new_g = g + 1\n",
        "                new_f = new_g + heuristic(nxt)\n",
        "                heapq.heappush(open_list, (new_f, new_g, new_path))\n",
        "    return None\n",
        "\n",
        "solution = a_star_water_jug()\n",
        "print(\"8A* Solution Path:\")\n",
        "for step in solution:\n",
        "    print(step)\n"
      ],
      "metadata": {
        "colab": {
          "base_uri": "https://localhost:8080/"
        },
        "id": "VxE1v7v5hWiO",
        "outputId": "b18a62f5-fc51-444b-c151-fe9f2ea5820c"
      },
      "execution_count": 5,
      "outputs": [
        {
          "output_type": "stream",
          "name": "stdout",
          "text": [
            "A* Solution Path:\n",
            "(0, 0)\n",
            "(0, 3)\n",
            "(3, 0)\n",
            "(3, 3)\n",
            "(4, 2)\n"
          ]
        }
      ]
    },
    {
      "cell_type": "markdown",
      "source": [
        "1) Compare the solution paths found by BFS, DFS, and A*\n",
        "\n",
        "BFS path (example): (0,0) → (4,0) → (1,3) — 3 states, 2 actions.\n",
        "\n",
        "DFS path (example): (0,0) → (0,3) → (3,0) → (3,3) → (4,2) → (4,0) → (1,3) — 7 states, 6 actions.\n",
        "\n",
        "A* path (example): (0,0) → (4,0) → (1,3) — same as BFS in this run.\n",
        "\n",
        "So BFS and A* returned the shorter path; DFS returned a longer (non-optimal) path in the shown run.\n",
        "\n",
        "2) Which algorithm gives the shortest path? Why?\n",
        "\n",
        "Shortest path: BFS and A* (both produced the same shortest path here).\n",
        "\n",
        "Why BFS: BFS explores the state-space level by level (increasing number of actions). With uniform step cost (each action counted as 1), BFS is guaranteed to find a solution with the minimum number of steps (i.e., shortest path in terms of actions).\n",
        "\n",
        "Why A* can be shortest: A* is optimal if the heuristic is admissible (never overestimates true remaining cost). In your implementation the heuristic min(|x-G|, |y-G|) is optimistic for this problem and therefore A* also finds an optimal (shortest) solution.\n",
        "\n",
        "Why DFS is not shortest: DFS follows one branch deeply without considering path length, so it may find a solution that is longer (more actions) than the optimal.\n",
        "\n",
        "3) Which algorithm is more efficient in time and memory?\n",
        "\n",
        "Short answer: Depends on the problem and heuristic — but for this Water Jug small state-space:\n",
        "\n",
        "BFS\n",
        "\n",
        "Time: Explores all states up to depth d (where d is depth of shortest solution). In worst-case it can examine many states.\n",
        "\n",
        "Memory: High — BFS stores the entire frontier for the current level → can be expensive.\n",
        "\n",
        "Use when: You need guaranteed shortest path and state-space fits memory.\n",
        "\n",
        "DFS\n",
        "\n",
        "Time: Can be faster to find some solution if search order is lucky, but may also take longer because it explores deep irrelevant branches.\n",
        "\n",
        "Memory: Low — only stores current path (stack), so much less memory than BFS.\n",
        "\n",
        "Use when: Memory is constrained or you only need any solution (not necessarily shortest).\n",
        "\n",
        "A*\n",
        "\n",
        "Time & Memory: If the heuristic is informative (reduces nodes expanded) A* can be much faster than BFS and explore far fewer states. Memory usage can still be high because A* keeps an open list and visited costs.\n",
        "\n",
        "Best when: You want optimal solution and you can craft a good admissible heuristic.\n",
        "\n",
        "If heuristic is poor (uninformative): A* behaves similar to BFS (same cost/exploration)."
      ],
      "metadata": {
        "id": "JEf-bvjtHG6m"
      }
    }
  ]
}