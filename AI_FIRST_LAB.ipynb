{
  "nbformat": 4,
  "nbformat_minor": 0,
  "metadata": {
    "colab": {
      "provenance": [],
      "toc_visible": true,
      "gpuType": "T4"
    },
    "kernelspec": {
      "name": "python3",
      "display_name": "Python 3"
    },
    "language_info": {
      "name": "python"
    },
    "accelerator": "GPU"
  },
  "cells": [
    {
      "cell_type": "code",
      "execution_count": 13,
      "metadata": {
        "colab": {
          "base_uri": "https://localhost:8080/"
        },
        "id": "QrHKQgmO2n4y",
        "outputId": "eb361958-75a4-4ced-81df-212364d0b580"
      },
      "outputs": [
        {
          "output_type": "stream",
          "name": "stdout",
          "text": [
            " Addition of a and b = 17\n",
            " Subtraction of a and b = 3\n",
            " Multiplication of a and b = 70\n",
            " Division of a and b = 1.4285714285714286\n"
          ]
        }
      ],
      "source": [
        "a=10;\n",
        "b=7;\n",
        "print(\" Addition of a and b =\",a + b);\n",
        "print(\" Subtraction of a and b =\",a - b);\n",
        "print(\" Multiplication of a and b =\",a * b);\n",
        "print(\" Division of a and b =\",a / b);"
      ]
    },
    {
      "cell_type": "markdown",
      "source": [
        "# **Division**\n",
        "# New Section"
      ],
      "metadata": {
        "id": "4ewdcTSJ7EH4"
      }
    },
    {
      "cell_type": "markdown",
      "source": [
        "# **MULTIPLICATION**\n",
        "# New Section"
      ],
      "metadata": {
        "id": "rLZcbTrH62SR"
      }
    },
    {
      "cell_type": "markdown",
      "source": [
        "# **SUBTRACTION**\n",
        "# New Section"
      ],
      "metadata": {
        "id": "HHIrKIwu6iBT"
      }
    },
    {
      "cell_type": "markdown",
      "source": [
        "# HELLO\n",
        "# New Section"
      ],
      "metadata": {
        "id": "WaUj5vJR4AvO"
      }
    },
    {
      "cell_type": "markdown",
      "source": [
        "# **ADDITION**\n",
        "# New Section"
      ],
      "metadata": {
        "id": "1AU1pVdz5exr"
      }
    }
  ]
}