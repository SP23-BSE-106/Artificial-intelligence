{
  "nbformat": 4,
  "nbformat_minor": 0,
  "metadata": {
    "colab": {
      "provenance": [],
      "toc_visible": true,
      "gpuType": "T4"
    },
    "kernelspec": {
      "name": "python3",
      "display_name": "Python 3"
    },
    "language_info": {
      "name": "python"
    },
    "accelerator": "GPU"
  },
  "cells": [
    {
      "cell_type": "markdown",
      "source": [
        "# **Division**\n"
      ],
      "metadata": {
        "id": "4ewdcTSJ7EH4"
      }
    },
    {
      "cell_type": "code",
      "source": [
        "a=10;\n",
        "b=7;\n",
        "print(\" Division of a and b =\",a / b);"
      ],
      "metadata": {
        "colab": {
          "base_uri": "https://localhost:8080/"
        },
        "id": "N0zHOoWEOJLU",
        "outputId": "fcf0ec08-42d8-4b89-dae5-2abf1a545f1d"
      },
      "execution_count": 2,
      "outputs": [
        {
          "output_type": "stream",
          "name": "stdout",
          "text": [
            " Division of a and b = 1.4285714285714286\n"
          ]
        }
      ]
    },
    {
      "cell_type": "markdown",
      "source": [
        "# **MULTIPLICATION**\n"
      ],
      "metadata": {
        "id": "rLZcbTrH62SR"
      }
    },
    {
      "cell_type": "code",
      "source": [
        "a=10;\n",
        "b=7;\n",
        "print(\" Multiplication of a and b =\",a * b);"
      ],
      "metadata": {
        "colab": {
          "base_uri": "https://localhost:8080/"
        },
        "id": "q0q7iilSN8UZ",
        "outputId": "542b93ab-3bde-47d1-a1c5-3334b7951c9b"
      },
      "execution_count": 5,
      "outputs": [
        {
          "output_type": "stream",
          "name": "stdout",
          "text": [
            " Multiplication of a and b = 70\n"
          ]
        }
      ]
    },
    {
      "cell_type": "markdown",
      "source": [
        "# **SUBTRACTION**\n"
      ],
      "metadata": {
        "id": "HHIrKIwu6iBT"
      }
    },
    {
      "cell_type": "code",
      "source": [
        "a=10;\n",
        "b=7;\n",
        "print(\" Subtraction of a and b =\",a - b);"
      ],
      "metadata": {
        "colab": {
          "base_uri": "https://localhost:8080/"
        },
        "id": "ueSVzcRBOTVx",
        "outputId": "dd4ecde0-d065-4056-b091-07d1731e4436"
      },
      "execution_count": 4,
      "outputs": [
        {
          "output_type": "stream",
          "name": "stdout",
          "text": [
            " Subtraction of a and b = 3\n"
          ]
        }
      ]
    },
    {
      "cell_type": "markdown",
      "source": [
        "# HELLO\n"
      ],
      "metadata": {
        "id": "WaUj5vJR4AvO"
      }
    },
    {
      "cell_type": "code",
      "source": [
        "print(\"hello\");"
      ],
      "metadata": {
        "colab": {
          "base_uri": "https://localhost:8080/"
        },
        "id": "AKSPM-vvPVDZ",
        "outputId": "27b9c892-d65b-4f54-c7e1-2f82810ccb98"
      },
      "execution_count": 6,
      "outputs": [
        {
          "output_type": "stream",
          "name": "stdout",
          "text": [
            "hello\n"
          ]
        }
      ]
    },
    {
      "cell_type": "markdown",
      "source": [
        "# **ADDITION**\n"
      ],
      "metadata": {
        "id": "1AU1pVdz5exr"
      }
    },
    {
      "cell_type": "code",
      "source": [
        "a=10;\n",
        "b=7;\n",
        "print(\" Addition of a and b =\",a + b);"
      ],
      "metadata": {
        "colab": {
          "base_uri": "https://localhost:8080/"
        },
        "id": "gjO5LaIhOrMK",
        "outputId": "74f21137-17f6-48b4-c7d9-b58c27679ea2"
      },
      "execution_count": 3,
      "outputs": [
        {
          "output_type": "stream",
          "name": "stdout",
          "text": [
            " Addition of a and b = 17\n"
          ]
        }
      ]
    }
  ]
}