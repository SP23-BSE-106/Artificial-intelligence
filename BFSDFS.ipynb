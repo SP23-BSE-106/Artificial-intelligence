{
  "nbformat": 4,
  "nbformat_minor": 0,
  "metadata": {
    "colab": {
      "provenance": []
    },
    "kernelspec": {
      "name": "python3",
      "display_name": "Python 3"
    },
    "language_info": {
      "name": "python"
    }
  },
  "cells": [
    {
      "cell_type": "markdown",
      "source": [
        "# **Lab3**\n",
        "1.Made an undirected graph with the cities names as nodes and keys.\\\n",
        "2.Nodes =8.\\\n",
        "3.Edges =8."
      ],
      "metadata": {
        "id": "gLWdjn2b_5mT"
      }
    },
    {
      "cell_type": "code",
      "source": [
        "from collections import deque"
      ],
      "metadata": {
        "id": "XHsOABpYGGSD"
      },
      "execution_count": 27,
      "outputs": []
    },
    {
      "cell_type": "code",
      "execution_count": 13,
      "metadata": {
        "id": "CyVwm_Z3-0CK"
      },
      "outputs": [],
      "source": [
        "    # made an undirected graph\n",
        "pakistan_cities = {\n",
        "    'Lahore': ['Islamabad'],\n",
        "    'Islamabad': ['Lahore', 'Karachi'],\n",
        "    'Karachi': ['Islamabad', 'Multan', 'Quetta'],\n",
        "    'Multan': ['Karachi', 'Peshawar'],\n",
        "    'Quetta': ['Karachi'],\n",
        "    'Peshawar': ['Multan', 'Hyderabad'],\n",
        "    'Hyderabad': ['Peshawar', 'Sukkur'],\n",
        "    'Sukkur': ['Hyderabad']\n",
        "    }\n",
        "\n",
        "\n",
        "\n",
        ""
      ]
    },
    {
      "cell_type": "code",
      "source": [
        "# bfs function made\n",
        "def bfs(g,s,G):\n",
        "    queue=deque([[s]])\n",
        "    visited=set()\n",
        "    while queue:\n",
        "        path=queue.popleft()\n",
        "        current=path[-1]\n",
        "        if current==G:\n",
        "            return path\n",
        "        if current not in visited:\n",
        "            visited.add(current)\n",
        "            for neighbor in g.get(current,[]):\n",
        "                new_path=list(path)\n",
        "                new_path.append(neighbor)\n",
        "                queue.append(new_path)\n",
        "    return None"
      ],
      "metadata": {
        "id": "ok_1fUg0GTHU"
      },
      "execution_count": 19,
      "outputs": []
    },
    {
      "cell_type": "code",
      "metadata": {
        "colab": {
          "base_uri": "https://localhost:8080/"
        },
        "id": "973ec336",
        "outputId": "a973cbb5-af6d-41d7-91ec-2fe7a5c83374"
      },
      "source": [
        "# Example test: Find path from Lahore to Quetta\n",
        "start_city = 'Lahore'\n",
        "goal_city = 'Quetta'\n",
        "\n",
        "path = bfs(pakistan_cities, start_city, goal_city)\n",
        "\n",
        "if path:\n",
        "    print(f\"Path from {start_city} to {goal_city}: {path}\")\n",
        "else:\n",
        "    print(f\"No path found from {start_city} to {goal_city}\")"
      ],
      "execution_count": 20,
      "outputs": [
        {
          "output_type": "stream",
          "name": "stdout",
          "text": [
            "Path from Lahore to Quetta: ['Lahore', 'Islamabad', 'Karachi', 'Quetta']\n"
          ]
        }
      ]
    },
    {
      "cell_type": "code",
      "source": [
        "# dfs function made\n",
        "def dfs(g,s,G,path=None,visited=None):\n",
        "    if path is None:\n",
        "        path=[]\n",
        "    if visited is None:\n",
        "        visited=set()\n",
        "\n",
        "    path.append(s)\n",
        "    visited.add(s)\n",
        "\n",
        "    if s==G:\n",
        "        return path\n",
        "\n",
        "    for neighbor in g.get(s,[]):\n",
        "        if neighbor not in visited:\n",
        "            result=dfs(g,neighbor,G,path.copy(),visited.copy())\n",
        "            if result:\n",
        "                return result\n",
        "    return None"
      ],
      "metadata": {
        "id": "0wU6vHN8KjV9"
      },
      "execution_count": 25,
      "outputs": []
    },
    {
      "cell_type": "code",
      "metadata": {
        "colab": {
          "base_uri": "https://localhost:8080/"
        },
        "id": "e65671c6",
        "outputId": "371b2ebd-5d02-41be-a30a-3f094d8b3bcb"
      },
      "source": [
        "# Example test: Find path from Lahore to Quetta using DFS\n",
        "start_city_dfs = 'Lahore'\n",
        "goal_city_dfs = 'Quetta'\n",
        "\n",
        "path_dfs = dfs(pakistan_cities, start_city_dfs, goal_city_dfs)\n",
        "\n",
        "if path_dfs:\n",
        "    print(f\"Path from {start_city_dfs} to {goal_city_dfs} using DFS: {path_dfs}\")\n",
        "else:\n",
        "    print(f\"No path found from {start_city_dfs} to {goal_city_dfs} using DFS\")"
      ],
      "execution_count": 23,
      "outputs": [
        {
          "output_type": "stream",
          "name": "stdout",
          "text": [
            "Path from Lahore to Quetta using DFS: ['Lahore', 'Islamabad', 'Karachi', 'Quetta']\n"
          ]
        }
      ]
    }
  ]
}