{
  "nbformat": 4,
  "nbformat_minor": 0,
  "metadata": {
    "colab": {
      "provenance": [],
      "toc_visible": true
    },
    "kernelspec": {
      "name": "python3",
      "display_name": "Python 3"
    },
    "language_info": {
      "name": "python"
    }
  },
  "cells": [
    {
      "cell_type": "markdown",
      "source": [
        "# **Lists**\n",
        "1.Create a list of 10 integers. \\\n",
        "2.Find and print the sum ,maximum and minimum value.\\\n",
        "3.Add a new element in list and remove an existing one.\\\n",
        "4.Print new list.\\\n",
        "5.Sort the list in ascending and decending order."
      ],
      "metadata": {
        "id": "0FIdIYIL5Wx9"
      }
    },
    {
      "cell_type": "code",
      "source": [
        "# create a list of 10 integers\n",
        "a= [1,2,3,4,5,6,7,8,9,10]\n",
        "print('List:',a)\n",
        "#sum,max,min\n",
        "print('Sum:',sum(a))\n",
        "print('Max:',max(a))\n",
        "print('Min:',min(a))\n",
        "#Add and remove element\n",
        "a.append(11) #to add new item use append\n",
        "print('Add:',a)\n",
        "a.remove(5)\n",
        "print('Remove:',a)\n",
        "#print updated list\n",
        "print('Updated List:',a)\n",
        "#Sort ascending and decending order\n",
        "a.sort()\n",
        "print('Ascending:',a)\n",
        "a.sort(reverse=True)\n",
        "print('Decending:',a)\n",
        "# while(true) will run an infinity loop forever\n"
      ],
      "metadata": {
        "colab": {
          "base_uri": "https://localhost:8080/"
        },
        "id": "Ignx0wdsAWlu",
        "outputId": "006740bc-2760-458d-aa23-b45f6cc1208c"
      },
      "execution_count": 5,
      "outputs": [
        {
          "output_type": "stream",
          "name": "stdout",
          "text": [
            "List: [1, 2, 3, 4, 5, 6, 7, 8, 9, 10]\n",
            "Sum: 55\n",
            "Max: 10\n",
            "Min: 1\n",
            "Add: [1, 2, 3, 4, 5, 6, 7, 8, 9, 10, 11]\n",
            "Remove: [1, 2, 3, 4, 6, 7, 8, 9, 10, 11]\n",
            "Updated List: [1, 2, 3, 4, 6, 7, 8, 9, 10, 11]\n",
            "Ascending: [1, 2, 3, 4, 6, 7, 8, 9, 10, 11]\n",
            "Decending: [11, 10, 9, 8, 7, 6, 4, 3, 2, 1]\n"
          ]
        }
      ]
    },
    {
      "cell_type": "markdown",
      "source": [
        "# **Tuples**\n",
        "1.Create a tuple with 5 Strings.\\\n",
        "2.Access and print the second and last element.\\\n",
        "3.Try to modify and an element and not the error.\\\n",
        "4.Convert the tuple into a list and modify it."
      ],
      "metadata": {
        "id": "EwZT0HFK5Xbo"
      }
    },
    {
      "cell_type": "code",
      "source": [
        "#create a tuple with 5 strings\n",
        "a=('apple','orange','cherry','kiwi','berry')\n",
        "print('Tuple:',a)\n",
        "#tuple dont allow add or remove so first need to convert it to a list \\\n",
        "#Access and print the second and last element\n",
        "\n",
        "print('Second Element:',a[1])\n",
        "print('Last Element:',a[-1])\n",
        "#add element\n",
        "#a.append('banana')\n",
        "# AttributeError                            Traceback (most recent call last)\n",
        "# /tmp/ipython-input-2312869946.py in <cell line: 0>()\n",
        "#       8 print('Last Element:',a[-1])\n",
        "#       9 #add element\n",
        "# ---> 10 a.append('banana')\n",
        "#      11\n",
        "\n",
        "# AttributeError: 'tuple' object has no attribute 'append'\n",
        "\n",
        "#Convert the tuple into a list and modify it\n",
        "a=list(a)\n",
        "a.append('banana')\n",
        "print('Updated List:',a)\n",
        "b=tuple(a)\n",
        "print('Updated Tuple:',b)\n",
        "\n"
      ],
      "metadata": {
        "colab": {
          "base_uri": "https://localhost:8080/"
        },
        "id": "9SfV0v0PE14x",
        "outputId": "37bfbe5c-fa8e-40ac-f6bf-7c07e5406875"
      },
      "execution_count": 11,
      "outputs": [
        {
          "output_type": "stream",
          "name": "stdout",
          "text": [
            "Tuple: ('apple', 'orange', 'cherry', 'kiwi', 'berry')\n",
            "Second Element: orange\n",
            "Last Element: berry\n",
            "Updated List: ['apple', 'orange', 'cherry', 'kiwi', 'berry', 'banana']\n",
            "Updated Tuple: ('apple', 'orange', 'cherry', 'kiwi', 'berry', 'banana')\n"
          ]
        }
      ]
    },
    {
      "cell_type": "markdown",
      "source": [
        "# **Sets**\n",
        "1.Create two sets with some common and unique elements.\\\n",
        "2.Perform Union,intersection and difference operations."
      ],
      "metadata": {
        "id": "W1UCXzSu5X3v"
      }
    },
    {
      "cell_type": "code",
      "source": [
        "#Create two sets with some common and unique elements\n",
        "a={1,2,3,4,5}\n",
        "b={4,5,6,7,8}\n",
        "print('Set A:',a)\n",
        "print('Set B:',b)\n",
        "#Perform Union,intersection and difference operations\n",
        "print('Union:',a.union(b))\n",
        "print('Intersection:',a.intersection(b))\n",
        "print('Difference:',a.difference(b))\n",
        "\n"
      ],
      "metadata": {
        "colab": {
          "base_uri": "https://localhost:8080/"
        },
        "id": "x7ixKo-TIBl8",
        "outputId": "4a6b4519-67eb-4558-98c8-6ef5c7d2127e"
      },
      "execution_count": 12,
      "outputs": [
        {
          "output_type": "stream",
          "name": "stdout",
          "text": [
            "Set A: {1, 2, 3, 4, 5}\n",
            "Set B: {4, 5, 6, 7, 8}\n",
            "Union: {1, 2, 3, 4, 5, 6, 7, 8}\n",
            "Intersection: {4, 5}\n",
            "Difference: {1, 2, 3}\n"
          ]
        }
      ]
    },
    {
      "cell_type": "markdown",
      "source": [
        "# **Dictionaries**\n",
        "1.Create 5 -key values pairs and marks.\\\n",
        "2.Print keys and values.\\\n",
        "3.Update value."
      ],
      "metadata": {
        "id": "eW7_IbJI5YOB"
      }
    },
    {
      "cell_type": "code",
      "source": [
        "#Create 5 -key values pairs and marks\n",
        "students={ 'Ali': 85,\n",
        "           'Sara': 92,\n",
        "           'Ahmed': 78,\n",
        "           'Fatima': 95,\n",
        "           'Omar': 88\n",
        "           }\n",
        "\n",
        "print(students)\n",
        "\n",
        "# Print keys and values\n",
        "print('Keys:', students.keys())\n",
        "print('Values:', students.values())\n",
        "\n",
        "# Update value\n",
        "students['Ali'] = 90\n",
        "print('Updated Dictionary:', students)"
      ],
      "metadata": {
        "colab": {
          "base_uri": "https://localhost:8080/"
        },
        "id": "yWeA8AqjJiXB",
        "outputId": "b67ed1ff-1d29-4bbd-a29e-975cc5d30ab5"
      },
      "execution_count": 14,
      "outputs": [
        {
          "output_type": "stream",
          "name": "stdout",
          "text": [
            "{'Ali': 85, 'Sara': 92, 'Ahmed': 78, 'Fatima': 95, 'Omar': 88}\n",
            "Keys: dict_keys(['Ali', 'Sara', 'Ahmed', 'Fatima', 'Omar'])\n",
            "Values: dict_values([85, 92, 78, 95, 88])\n",
            "Updated Dictionary: {'Ali': 90, 'Sara': 92, 'Ahmed': 78, 'Fatima': 95, 'Omar': 88}\n"
          ]
        }
      ]
    },
    {
      "cell_type": "markdown",
      "source": [
        "# **Numpy**"
      ],
      "metadata": {
        "id": "7x6Gg--h5Yus"
      }
    },
    {
      "cell_type": "markdown",
      "source": [
        "# **Matplotlib**"
      ],
      "metadata": {
        "id": "-3oI0RoC56jT"
      }
    }
  ]
}